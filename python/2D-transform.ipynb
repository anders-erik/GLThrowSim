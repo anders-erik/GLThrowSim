{
 "cells": [
  {
   "cell_type": "code",
   "execution_count": 1,
   "metadata": {},
   "outputs": [],
   "source": [
    "# source ~/venvs/glthrowsim-venv/bin/activate\n",
    "# cat "
   ]
  },
  {
   "cell_type": "code",
   "execution_count": 127,
   "metadata": {},
   "outputs": [],
   "source": [
    "\n",
    "import numpy as np\n",
    "import matplotlib.pyplot as plt\n",
    "import math"
   ]
  },
  {
   "cell_type": "code",
   "execution_count": 3,
   "metadata": {},
   "outputs": [
    {
     "name": "stdout",
     "output_type": "stream",
     "text": [
      "[11  2  1]\n"
     ]
    }
   ],
   "source": [
    "# numpy and matmul test\n",
    "\n",
    "arr2d =  [[1, 0, 10],\n",
    "        [0, 1, 0],\n",
    "        [0, 0, 1]]\n",
    "\n",
    "mat = np.array(arr2d)\n",
    "# mat = np.array([[1, 0, 10],[0, 1, 0],[0, 0, 1]])\n",
    "\n",
    "pos = np.array([1, 2, 1])\n",
    "\n",
    "pos = np.matmul(mat, pos)\n",
    "\n",
    "print(pos)\n"
   ]
  },
  {
   "cell_type": "code",
   "execution_count": null,
   "metadata": {},
   "outputs": [],
   "source": []
  },
  {
   "cell_type": "code",
   "execution_count": 100,
   "metadata": {},
   "outputs": [
    {
     "data": {
      "text/plain": [
       "<Figure size 600x600 with 0 Axes>"
      ]
     },
     "metadata": {},
     "output_type": "display_data"
    },
    {
     "data": {
      "text/plain": [
       "<Figure size 600x600 with 0 Axes>"
      ]
     },
     "metadata": {},
     "output_type": "display_data"
    },
    {
     "data": {
      "text/plain": [
       "<Figure size 600x600 with 0 Axes>"
      ]
     },
     "metadata": {},
     "output_type": "display_data"
    },
    {
     "data": {
      "text/plain": [
       "<Figure size 600x600 with 0 Axes>"
      ]
     },
     "metadata": {},
     "output_type": "display_data"
    },
    {
     "data": {
      "text/plain": [
       "<Figure size 600x600 with 0 Axes>"
      ]
     },
     "metadata": {},
     "output_type": "display_data"
    }
   ],
   "source": [
    "#   OVERVIEW : 2D GLOBAL TO LOCAL VISUALIZATION\n",
    "#       - 2D\n",
    "#       - Globally fixed point given in global coordinates\n",
    "#       - Given local coordinate system with specified origin shift from global and CCW rotation\n",
    "#       - Plots a selection of rotation angles\n",
    "#\n",
    "\n",
    "\n",
    "    \n",
    "\n",
    "for i in range(5):\n",
    "\n",
    "\n",
    "    # VALUES\n",
    "\n",
    "    # POINT : global coordinates\n",
    "    globalX = 3\n",
    "    globalY = 1\n",
    "    globalPoint1 = p1 = np.array([globalX, globalY, 1])\n",
    "\n",
    "    # LOCAL SYSTEM : position and rotation from global frame\n",
    "    # Origin of local coordinate system in global coordinates\n",
    "    xOriginCoord1 = 1 \n",
    "    yOriginCoord1 = 1 \n",
    "    # Rotational angle of local about poisitive z (RH)\n",
    "    th =  math.pi/4 * float(i) # angle 'theta'\n",
    "\n",
    "    \n",
    "\n",
    "\n",
    "    # TRANFORMATION\n",
    "\n",
    "    # matrix : transforms a global point to local point \n",
    "    globalToLocalTranslate = np.array([ [1, 0, -xOriginCoord1],\n",
    "                                        [0, 1, -yOriginCoord1],\n",
    "                                        [0, 0, 1]])\n",
    "    globalToLocalRotation = np.array([[math.cos(th), math.sin(th), 0],\n",
    "                               [-math.sin(th), math.cos(th), 0],\n",
    "                               [0, 0, 1]])\n",
    "\n",
    "    # Global point shifted into local x, y pos\n",
    "    # Need to translate BEFORE rotating since were moving from global to local\n",
    "    transformed_point = globalToLocalRotation @ globalToLocalTranslate @ globalPoint1\n",
    "\n",
    "\n",
    "    \n",
    "\n",
    "    \n",
    "    # PLOTTING\n",
    "\n",
    "    # Plotting the original and transformed points\n",
    "    plt.figure(figsize=(6, 6))\n",
    "    plt.scatter([globalPoint1[0]], [globalPoint1[1]], color='blue', label='Point in Global coord.')\n",
    "    plt.scatter(transformed_point[0] , transformed_point[1] , color='cyan', label='Point in Local coord.')\n",
    "    \n",
    "    # LOCAL AXES (in global frame)\n",
    "    origin = np.array([xOriginCoord1, xOriginCoord1])\n",
    "    x_axis = np.array([math.cos(th), math.sin(th)])\n",
    "    y_axis = np.array([-math.sin(th), math.cos(th)])\n",
    "    plt.quiver(*origin, *x_axis, color='r', scale=1, scale_units='xy', angles='xy', width=0.005)\n",
    "    plt.quiver(*origin, *y_axis, color='g', scale=1, scale_units='xy', angles='xy', width=0.005)\n",
    "\n",
    "\n",
    "\n",
    "\n",
    "    # PLOT SETTINGS\n",
    "    \n",
    "    # Print degrees rotation\n",
    "    plt.text(xOriginCoord1, yOriginCoord1-0.5, f'th={round(th*180/math.pi, 2)}`')\n",
    "    plt.xlim(-5, 5)\n",
    "    plt.ylim(-5, 5)\n",
    "    plt.axhline(0, color='black',linewidth=0.5)\n",
    "    plt.axvline(0, color='black',linewidth=0.5)\n",
    "    plt.grid(True)\n",
    "    plt.legend()\n",
    "    # plt.title(\"Point Transformations\")\n",
    "   \n",
    "\n",
    "    # plt.show()\n",
    "    plt.clf()\n"
   ]
  },
  {
   "cell_type": "code",
   "execution_count": null,
   "metadata": {},
   "outputs": [],
   "source": []
  },
  {
   "cell_type": "code",
   "execution_count": null,
   "metadata": {},
   "outputs": [],
   "source": []
  },
  {
   "cell_type": "code",
   "execution_count": 114,
   "metadata": {},
   "outputs": [],
   "source": [
    "#\n",
    "#       SAME AS ABOVE BUT GENERALIZED !\n",
    "#       ^^^^^^^^^^^^^^^^^^^^^^^^^^^^^\n",
    "#\n",
    "\n",
    "\n",
    "import numpy as np\n",
    "import matplotlib.pyplot as plt\n",
    "import math\n",
    "import time\n",
    "\n",
    "\n",
    "# Constants\n",
    "angleCount = 5\n",
    "angleStep = math.pi/4\n",
    "angleMax = angleStep * (angleCount-1)\n",
    "\n",
    "# Local origin in global coords\n",
    "localOriginX= 1 \n",
    "localOriginY = 1 \n",
    "\n",
    "# Angle array\n",
    "angle_array = []\n",
    "for i in range(angleCount):\n",
    "    angle_array.append(math.pi/4 * float(i))\n",
    "\n",
    "# Points Array\n",
    "globalX = 3\n",
    "globalY = 1\n",
    "offset = 0.2\n",
    "globalPoints = [\n",
    "    np.array([globalX, globalY, 1]),\n",
    "    np.array([globalX-offset, globalY-offset, 1]),\n",
    "    np.array([globalX+offset, globalY-offset, 1]),\n",
    "    np.array([globalX+offset, globalY+offset, 1]),\n",
    "    np.array([globalX-offset, globalY+offset, 1]),\n",
    "] \n",
    "\n"
   ]
  },
  {
   "cell_type": "code",
   "execution_count": 115,
   "metadata": {},
   "outputs": [],
   "source": [
    "\n",
    "# Transform Points\n",
    "localPointsArray = []\n",
    "for th in angle_array:\n",
    "    # matrix : transforms a global point to local point \n",
    "    globalToLocalTranslate = np.array([ [1, 0, -localOriginX],\n",
    "                                        [0, 1, -localOriginY],\n",
    "                                        [0, 0, 1]])\n",
    "    globalToLocalRotation = np.array([  [math.cos(th), math.sin(th), 0],\n",
    "                                        [-math.sin(th), math.cos(th), 0],\n",
    "                                        [0, 0, 1]])\n",
    "    localPoints = []\n",
    "    for globalPoint in globalPoints:\n",
    "        localPoint = globalToLocalRotation @ globalToLocalTranslate @ globalPoint\n",
    "        localPoints.append(localPoint)\n",
    "    localPointsArray.append(localPoints)\n"
   ]
  },
  {
   "cell_type": "code",
   "execution_count": 137,
   "metadata": {},
   "outputs": [],
   "source": [
    "\n",
    "# PLOTTING\n",
    "\n",
    "\n",
    "for i in range(angleCount):\n",
    "    # [theta][firstPoint][x/y values]\n",
    "    angle = angle_array[i]\n",
    "    origin = [localPointsArray[i][0][0], localPointsArray[i][0][0]]\n",
    "    # print(origin)\n",
    "\n",
    "    # fig = plt.figure(figsize=(4, 4))\n",
    "    fig, ax = plt.subplots(figsize=(4, 4))\n",
    "    ax.set_xlim(-5, 5)\n",
    "    ax.set_ylim(-5, 5)\n",
    "    ax.axhline(0, color='black',linewidth=0.5)\n",
    "    ax.axvline(0, color='black',linewidth=0.5)\n",
    "    ax.grid(True)\n",
    "\n",
    "\n",
    "    localPoints = localPointsArray[i]\n",
    "    for pointIndex in range(len(globalPoints)):\n",
    "        # axes[0, i].scatter([localPoints[pointIndex][0]], [localPoints[pointIndex][1]], color='blue', label='Point in Global coord.') \n",
    "        # axes[0, i].scatter([globalPoints[pointIndex][0]], [globalPoints[pointIndex][1]], color='cyan', label='Point in Local  coord.')\n",
    "        # plt.scatter([localPoints[pointIndex][0]], [localPoints[pointIndex][1]], color='blue', label='Point in Global coord.')\n",
    "        # plt.scatter([globalPoints[pointIndex][0]], [globalPoints[pointIndex][1]], color='cyan', label='Point in Local  coord.')\n",
    "        ax.scatter([localPoints[pointIndex][0]], [localPoints[pointIndex][1]], color='cyan', label='Point in Global coord.')\n",
    "        ax.scatter([globalPoints[pointIndex][0]], [globalPoints[pointIndex][1]], color='blue', label='Point in Local  coord.')\n",
    "\n",
    "    \n",
    "    \n",
    "    # LOCAL AXES (in global frame)\n",
    "    origin = np.array([localOriginX, localOriginY])\n",
    "    x_axis = np.array([math.cos(angle), math.sin(angle)])\n",
    "    y_axis = np.array([-math.sin(angle), math.cos(angle)])\n",
    "    # plt.quiver(*origin, *x_axis, color='r', scale=1, scale_units='xy', angles='xy', width=0.005)\n",
    "    # plt.quiver(*origin, *y_axis, color='g', scale=1, scale_units='xy', angles='xy', width=0.005)\n",
    "    ax.quiver(*origin, *x_axis, color='r', scale=1, scale_units='xy', angles='xy', width=0.005)\n",
    "    ax.quiver(*origin, *y_axis, color='g', scale=1, scale_units='xy', angles='xy', width=0.005)\n",
    "    \n",
    "    # Show every plot\n",
    "    # plt.show()\n",
    "\n",
    "    # Only show specific plots\n",
    "    if(i == 9):\n",
    "        plt.show()\n",
    "    else:\n",
    "        # time.sleep(1)\n",
    "        #fig.savefig(f'/path/to/folder/fig-{i}.png')\n",
    "        plt.close() # Prevents plotting!\n"
   ]
  },
  {
   "cell_type": "code",
   "execution_count": null,
   "metadata": {},
   "outputs": [],
   "source": []
  }
 ],
 "metadata": {
  "kernelspec": {
   "display_name": "Python 3 (ipykernel)",
   "language": "python",
   "name": "python3"
  },
  "language_info": {
   "codemirror_mode": {
    "name": "ipython",
    "version": 3
   },
   "file_extension": ".py",
   "mimetype": "text/x-python",
   "name": "python",
   "nbconvert_exporter": "python",
   "pygments_lexer": "ipython3",
   "version": "3.10.12"
  }
 },
 "nbformat": 4,
 "nbformat_minor": 2
}
