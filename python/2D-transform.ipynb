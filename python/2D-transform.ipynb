{
 "cells": [
  {
   "cell_type": "code",
   "execution_count": 81,
   "metadata": {},
   "outputs": [],
   "source": [
    "import numpy as np\n",
    "import matplotlib.pyplot as plt\n",
    "import math"
   ]
  },
  {
   "cell_type": "code",
   "execution_count": 15,
   "metadata": {},
   "outputs": [
    {
     "name": "stdout",
     "output_type": "stream",
     "text": [
      "[11  2  1]\n"
     ]
    }
   ],
   "source": [
    "# numpy and matmul test\n",
    "\n",
    "arr2d =  [[1, 0, 10],\n",
    "        [0, 1, 0],\n",
    "        [0, 0, 1]]\n",
    "\n",
    "mat = np.array(arr2d)\n",
    "# mat = np.array([[1, 0, 10],[0, 1, 0],[0, 0, 1]])\n",
    "\n",
    "pos = np.array([1, 2, 1])\n",
    "\n",
    "pos = np.matmul(mat, pos)\n",
    "\n",
    "print(pos)\n"
   ]
  },
  {
   "cell_type": "code",
   "execution_count": null,
   "metadata": {},
   "outputs": [],
   "source": []
  },
  {
   "cell_type": "code",
   "execution_count": 159,
   "metadata": {},
   "outputs": [
    {
     "data": {
      "text/plain": [
       "<Figure size 600x600 with 0 Axes>"
      ]
     },
     "metadata": {},
     "output_type": "display_data"
    },
    {
     "data": {
      "text/plain": [
       "<Figure size 600x600 with 0 Axes>"
      ]
     },
     "metadata": {},
     "output_type": "display_data"
    },
    {
     "data": {
      "text/plain": [
       "<Figure size 600x600 with 0 Axes>"
      ]
     },
     "metadata": {},
     "output_type": "display_data"
    },
    {
     "data": {
      "text/plain": [
       "<Figure size 600x600 with 0 Axes>"
      ]
     },
     "metadata": {},
     "output_type": "display_data"
    },
    {
     "data": {
      "text/plain": [
       "<Figure size 600x600 with 0 Axes>"
      ]
     },
     "metadata": {},
     "output_type": "display_data"
    }
   ],
   "source": [
    "#   OVERVIEW : 2D GLOBAL TO LOCAL VISUALIZATION\n",
    "#       - 2D\n",
    "#       - Globally fixed point given in global coordinates\n",
    "#       - Given local coordinate system with specified origin shift from global and CCW rotation\n",
    "#       - Plots a selection of rotation angles\n",
    "#\n",
    "\n",
    "\n",
    "for i in range(5):\n",
    "\n",
    "\n",
    "    # VALUES\n",
    "\n",
    "    # POINT : global coordinates\n",
    "    globalX = 3\n",
    "    globalY = 1\n",
    "    globalPoint1 = p1 = np.array([globalX, globalY, 1])\n",
    "\n",
    "    # LOCAL SYSTEM : position and rotation from global frame\n",
    "    # Origin of local coordinate system in global coordinates\n",
    "    xOriginCoord1 = 1 \n",
    "    yOriginCoord1 = 1 \n",
    "    # Rotational angle of local about poisitive z (RH)\n",
    "    th =  math.pi/4 * float(i) # angle 'theta'\n",
    "\n",
    "    \n",
    "\n",
    "\n",
    "    # TRANFORMATION\n",
    "\n",
    "    # matrix : transforms a global point to local point \n",
    "    globalToLocalTranslate = np.array([ [1, 0, -xOriginCoord1],\n",
    "                                        [0, 1, -yOriginCoord1],\n",
    "                                        [0, 0, 1]])\n",
    "    globalToLocalRotation = np.array([[math.cos(th), math.sin(th), 0],\n",
    "                               [-math.sin(th), math.cos(th), 0],\n",
    "                               [0, 0, 1]])\n",
    "\n",
    "    # Global point shifted into local x, y pos\n",
    "    # Need to translate BEFORE rotating since were moving from global to local\n",
    "    transformed_point = globalToLocalRotation @ globalToLocalTranslate @ globalPoint1\n",
    "\n",
    "    \n",
    "    # PLOTTING\n",
    "\n",
    "    # Plotting the original and transformed points\n",
    "    plt.figure(figsize=(6, 6))\n",
    "    plt.scatter([globalPoint1[0]], [globalPoint1[1]], color='blue', label='Point in Global coord.')\n",
    "    plt.scatter(transformed_point[0] , transformed_point[1] , color='cyan', label='Point in Local coord.')\n",
    "    \n",
    "    # LOCAL AXES (in global frame)\n",
    "    origin = np.array([xOriginCoord1, xOriginCoord1])\n",
    "    x_axis = np.array([math.cos(th), math.sin(th)])\n",
    "    y_axis = np.array([-math.sin(th), math.cos(th)])\n",
    "    plt.quiver(*origin, *x_axis, color='r', scale=1, scale_units='xy', angles='xy', width=0.005)\n",
    "    plt.quiver(*origin, *y_axis, color='g', scale=1, scale_units='xy', angles='xy', width=0.005)\n",
    "\n",
    "\n",
    "\n",
    "\n",
    "    # PLOT SETTINGS\n",
    "    \n",
    "    # Print degrees rotation\n",
    "    plt.text(xOriginCoord1, yOriginCoord1-0.5, f'th={round(th*180/math.pi, 2)}`')\n",
    "    plt.xlim(-5, 5)\n",
    "    plt.ylim(-5, 5)\n",
    "    plt.axhline(0, color='black',linewidth=0.5)\n",
    "    plt.axvline(0, color='black',linewidth=0.5)\n",
    "    plt.grid(True)\n",
    "    plt.legend()\n",
    "    # plt.title(\"Point Transformations\")\n",
    "   \n",
    "\n",
    "    # plt.show()\n",
    "    plt.clf()\n"
   ]
  }
 ],
 "metadata": {
  "kernelspec": {
   "display_name": "Python 3 (ipykernel)",
   "language": "python",
   "name": "python3"
  },
  "language_info": {
   "codemirror_mode": {
    "name": "ipython",
    "version": 3
   },
   "file_extension": ".py",
   "mimetype": "text/x-python",
   "name": "python",
   "nbconvert_exporter": "python",
   "pygments_lexer": "ipython3",
   "version": "3.10.12"
  }
 },
 "nbformat": 4,
 "nbformat_minor": 2
}
